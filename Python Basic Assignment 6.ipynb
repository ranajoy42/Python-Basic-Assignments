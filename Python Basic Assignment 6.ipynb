{
 "cells": [
  {
   "cell_type": "code",
   "execution_count": 1,
   "id": "a276b4ed",
   "metadata": {},
   "outputs": [],
   "source": [
    "# Question 1"
   ]
  },
  {
   "cell_type": "markdown",
   "id": "97f8ccdb",
   "metadata": {},
   "source": [
    "Escape characters are non-printable characters used in a string. It is used by backslash followed by the character you want to insert ---> Ex: \\n,\\t etc"
   ]
  },
  {
   "cell_type": "code",
   "execution_count": 2,
   "id": "2f997f99",
   "metadata": {},
   "outputs": [],
   "source": [
    "# Question 2"
   ]
  },
  {
   "cell_type": "markdown",
   "id": "e0288a36",
   "metadata": {},
   "source": [
    "\\n --> To move the pointer to the beginning of the next line\n",
    "\n",
    "\\t --> To include a tab between two characters"
   ]
  },
  {
   "cell_type": "code",
   "execution_count": 3,
   "id": "8aa63d4a",
   "metadata": {},
   "outputs": [],
   "source": [
    "# Question 3"
   ]
  },
  {
   "cell_type": "code",
   "execution_count": 27,
   "id": "dc0a63d8",
   "metadata": {},
   "outputs": [],
   "source": [
    "str1=\"Ronnie\\nSanyal\""
   ]
  },
  {
   "cell_type": "code",
   "execution_count": 28,
   "id": "d5c4edb2",
   "metadata": {},
   "outputs": [
    {
     "name": "stdout",
     "output_type": "stream",
     "text": [
      "Ronnie\n",
      "Sanyal\n"
     ]
    }
   ],
   "source": [
    "print(str1)"
   ]
  },
  {
   "cell_type": "code",
   "execution_count": 29,
   "id": "35201e8a",
   "metadata": {},
   "outputs": [
    {
     "name": "stdout",
     "output_type": "stream",
     "text": [
      "Roonie\tSanyal\n"
     ]
    }
   ],
   "source": [
    "str2=\"Roonie\\tSanyal\"\n",
    "print(str2)"
   ]
  },
  {
   "cell_type": "code",
   "execution_count": 30,
   "id": "81754476",
   "metadata": {},
   "outputs": [
    {
     "name": "stdout",
     "output_type": "stream",
     "text": [
      "Ro\\nnie\n"
     ]
    }
   ],
   "source": [
    "str3=\"Ro\\\\nnie\"\n",
    "print(str3)"
   ]
  },
  {
   "cell_type": "code",
   "execution_count": 31,
   "id": "e8f8de92",
   "metadata": {},
   "outputs": [],
   "source": [
    "# Question 4"
   ]
  },
  {
   "cell_type": "markdown",
   "id": "955243f9",
   "metadata": {},
   "source": [
    "The single quote in Howl's is fine because we have used double quotes to mark the beggining and end of the string"
   ]
  },
  {
   "cell_type": "code",
   "execution_count": 32,
   "id": "eebaf91a",
   "metadata": {},
   "outputs": [],
   "source": [
    "# Question 5"
   ]
  },
  {
   "cell_type": "markdown",
   "id": "e2355205",
   "metadata": {},
   "source": [
    "Include the string in triple quotes"
   ]
  },
  {
   "cell_type": "code",
   "execution_count": 34,
   "id": "331cf8c0",
   "metadata": {},
   "outputs": [
    {
     "name": "stdout",
     "output_type": "stream",
     "text": [
      "Kolkata (formerly Calcutta) is the capital of India's West Bengal state. \n",
      "Founded as an East India Company trading post, it was India's capital under the British Raj from 1773–1911. \n",
      "Today it’s known for its grand colonial architecture, art galleries and cultural festivals. \n",
      "It’s also home to Mother House, headquarters of the Missionaries of Charity, founded by Mother Teresa, whose tomb is on site.\n"
     ]
    }
   ],
   "source": [
    "str4 =\"\"\"Kolkata (formerly Calcutta) is the capital of India's West Bengal state. \n",
    "Founded as an East India Company trading post, it was India's capital under the British Raj from 1773–1911. \n",
    "Today it’s known for its grand colonial architecture, art galleries and cultural festivals. \n",
    "It’s also home to Mother House, headquarters of the Missionaries of Charity, founded by Mother Teresa, whose tomb is on site.\"\"\"\n",
    "\n",
    "print(str4)"
   ]
  },
  {
   "cell_type": "code",
   "execution_count": 35,
   "id": "0dc4611d",
   "metadata": {},
   "outputs": [],
   "source": [
    "# Question 6"
   ]
  },
  {
   "cell_type": "code",
   "execution_count": 36,
   "id": "75e47e55",
   "metadata": {},
   "outputs": [
    {
     "data": {
      "text/plain": [
       "'e'"
      ]
     },
     "execution_count": 36,
     "metadata": {},
     "output_type": "execute_result"
    }
   ],
   "source": [
    "'Hello, world!'[1]"
   ]
  },
  {
   "cell_type": "code",
   "execution_count": 37,
   "id": "ee613635",
   "metadata": {},
   "outputs": [
    {
     "data": {
      "text/plain": [
       "'Hello'"
      ]
     },
     "execution_count": 37,
     "metadata": {},
     "output_type": "execute_result"
    }
   ],
   "source": [
    "'Hello, world!'[0:5]"
   ]
  },
  {
   "cell_type": "code",
   "execution_count": 38,
   "id": "71a9cbbb",
   "metadata": {},
   "outputs": [
    {
     "data": {
      "text/plain": [
       "'Hello'"
      ]
     },
     "execution_count": 38,
     "metadata": {},
     "output_type": "execute_result"
    }
   ],
   "source": [
    "'Hello, world!'[:5]"
   ]
  },
  {
   "cell_type": "code",
   "execution_count": 39,
   "id": "c5c540cb",
   "metadata": {},
   "outputs": [
    {
     "data": {
      "text/plain": [
       "'lo, world!'"
      ]
     },
     "execution_count": 39,
     "metadata": {},
     "output_type": "execute_result"
    }
   ],
   "source": [
    "'Hello, world!'[3:]"
   ]
  },
  {
   "cell_type": "code",
   "execution_count": 40,
   "id": "b4f891e2",
   "metadata": {},
   "outputs": [],
   "source": [
    "# Question 7"
   ]
  },
  {
   "cell_type": "code",
   "execution_count": 41,
   "id": "fd519b2d",
   "metadata": {},
   "outputs": [
    {
     "data": {
      "text/plain": [
       "'HELLO'"
      ]
     },
     "execution_count": 41,
     "metadata": {},
     "output_type": "execute_result"
    }
   ],
   "source": [
    "'Hello'.upper()"
   ]
  },
  {
   "cell_type": "code",
   "execution_count": 43,
   "id": "cffd4650",
   "metadata": {},
   "outputs": [
    {
     "data": {
      "text/plain": [
       "True"
      ]
     },
     "execution_count": 43,
     "metadata": {},
     "output_type": "execute_result"
    }
   ],
   "source": [
    "'Hello'.upper().isupper()"
   ]
  },
  {
   "cell_type": "code",
   "execution_count": 44,
   "id": "2d1d5adb",
   "metadata": {},
   "outputs": [
    {
     "data": {
      "text/plain": [
       "'hello'"
      ]
     },
     "execution_count": 44,
     "metadata": {},
     "output_type": "execute_result"
    }
   ],
   "source": [
    "'Hello'.upper().lower()"
   ]
  },
  {
   "cell_type": "code",
   "execution_count": 45,
   "id": "0069076c",
   "metadata": {},
   "outputs": [],
   "source": [
    "# Question 8"
   ]
  },
  {
   "cell_type": "code",
   "execution_count": 46,
   "id": "52664c33",
   "metadata": {},
   "outputs": [
    {
     "data": {
      "text/plain": [
       "['Remember,', 'remember,', 'the', 'fifth', 'of', 'July.']"
      ]
     },
     "execution_count": 46,
     "metadata": {},
     "output_type": "execute_result"
    }
   ],
   "source": [
    "'Remember, remember, the fifth of July.'.split()"
   ]
  },
  {
   "cell_type": "code",
   "execution_count": 47,
   "id": "7a03c49c",
   "metadata": {},
   "outputs": [
    {
     "data": {
      "text/plain": [
       "'There-can-only-one.'"
      ]
     },
     "execution_count": 47,
     "metadata": {},
     "output_type": "execute_result"
    }
   ],
   "source": [
    "'-'.join('There can only one.'.split())"
   ]
  },
  {
   "cell_type": "code",
   "execution_count": 48,
   "id": "f76e8027",
   "metadata": {},
   "outputs": [],
   "source": [
    "# Question 9"
   ]
  },
  {
   "cell_type": "code",
   "execution_count": 61,
   "id": "90a29ba5",
   "metadata": {},
   "outputs": [
    {
     "data": {
      "text/plain": [
       "'Ronnie is a good boy'"
      ]
     },
     "execution_count": 61,
     "metadata": {},
     "output_type": "execute_result"
    }
   ],
   "source": [
    "str5=\"Ronnie is a good boy\"\n",
    "str5"
   ]
  },
  {
   "cell_type": "code",
   "execution_count": 63,
   "id": "76afbdec",
   "metadata": {},
   "outputs": [
    {
     "data": {
      "text/plain": [
       "'                                        Ronnie is a good boy                                        '"
      ]
     },
     "execution_count": 63,
     "metadata": {},
     "output_type": "execute_result"
    }
   ],
   "source": [
    "str5.center(100)"
   ]
  },
  {
   "cell_type": "code",
   "execution_count": 64,
   "id": "f19a5c49",
   "metadata": {},
   "outputs": [
    {
     "data": {
      "text/plain": [
       "'                                                                                Ronnie is a good boy'"
      ]
     },
     "execution_count": 64,
     "metadata": {},
     "output_type": "execute_result"
    }
   ],
   "source": [
    "str5.rjust(100)"
   ]
  },
  {
   "cell_type": "code",
   "execution_count": 65,
   "id": "c89fd254",
   "metadata": {},
   "outputs": [
    {
     "data": {
      "text/plain": [
       "'Ronnie is a good boy                                                                                '"
      ]
     },
     "execution_count": 65,
     "metadata": {},
     "output_type": "execute_result"
    }
   ],
   "source": [
    "str5.ljust(100)"
   ]
  },
  {
   "cell_type": "code",
   "execution_count": 66,
   "id": "af462515",
   "metadata": {},
   "outputs": [],
   "source": [
    "# Question 10"
   ]
  },
  {
   "cell_type": "code",
   "execution_count": 67,
   "id": "f4c8dfc9",
   "metadata": {},
   "outputs": [],
   "source": [
    "str6 = \"                 Ronnie is a good boy             \""
   ]
  },
  {
   "cell_type": "code",
   "execution_count": 69,
   "id": "98fdff30",
   "metadata": {},
   "outputs": [
    {
     "data": {
      "text/plain": [
       "'                 Ronnie is a good boy             '"
      ]
     },
     "execution_count": 69,
     "metadata": {},
     "output_type": "execute_result"
    }
   ],
   "source": [
    "str6"
   ]
  },
  {
   "cell_type": "code",
   "execution_count": 70,
   "id": "74996534",
   "metadata": {},
   "outputs": [
    {
     "data": {
      "text/plain": [
       "'Ronnie is a good boy             '"
      ]
     },
     "execution_count": 70,
     "metadata": {},
     "output_type": "execute_result"
    }
   ],
   "source": [
    "str6.lstrip()"
   ]
  },
  {
   "cell_type": "code",
   "execution_count": 71,
   "id": "7c294965",
   "metadata": {},
   "outputs": [
    {
     "data": {
      "text/plain": [
       "'                 Ronnie is a good boy'"
      ]
     },
     "execution_count": 71,
     "metadata": {},
     "output_type": "execute_result"
    }
   ],
   "source": [
    "str6.rstrip()"
   ]
  },
  {
   "cell_type": "code",
   "execution_count": 72,
   "id": "0bd679b7",
   "metadata": {},
   "outputs": [
    {
     "data": {
      "text/plain": [
       "'Ronnie is a good boy'"
      ]
     },
     "execution_count": 72,
     "metadata": {},
     "output_type": "execute_result"
    }
   ],
   "source": [
    "str6.strip()"
   ]
  },
  {
   "cell_type": "code",
   "execution_count": null,
   "id": "deebe983",
   "metadata": {},
   "outputs": [],
   "source": []
  }
 ],
 "metadata": {
  "kernelspec": {
   "display_name": "Python 3 (ipykernel)",
   "language": "python",
   "name": "python3"
  },
  "language_info": {
   "codemirror_mode": {
    "name": "ipython",
    "version": 3
   },
   "file_extension": ".py",
   "mimetype": "text/x-python",
   "name": "python",
   "nbconvert_exporter": "python",
   "pygments_lexer": "ipython3",
   "version": "3.8.12"
  }
 },
 "nbformat": 4,
 "nbformat_minor": 5
}
