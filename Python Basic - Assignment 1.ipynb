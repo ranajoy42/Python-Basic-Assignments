{
 "cells": [
  {
   "cell_type": "markdown",
   "id": "f1a3d4e4",
   "metadata": {},
   "source": [
    "##### Question 1"
   ]
  },
  {
   "cell_type": "code",
   "execution_count": 1,
   "id": "bb286c61",
   "metadata": {},
   "outputs": [
    {
     "data": {
      "text/plain": [
       "'\\n\\n* --> Expression (Multiplication)\\n\\n\"hello\" --> Values (String)\\n\\n-87.8 --> Values (Float)\\n\\n- --> Expression (Substraction)\\n\\n/ --> Expression (Division)\\n\\n+ --> Expression (Addition)\\n\\n6 --> Values (Integer)\\n\\n'"
      ]
     },
     "execution_count": 1,
     "metadata": {},
     "output_type": "execute_result"
    }
   ],
   "source": [
    "\"\"\"\n",
    "\n",
    "* --> Expression (Multiplication)\n",
    "\n",
    "\"hello\" --> Values (String)\n",
    "\n",
    "-87.8 --> Values (Float)\n",
    "\n",
    "- --> Expression (Substraction)\n",
    "\n",
    "/ --> Expression (Division)\n",
    "\n",
    "+ --> Expression (Addition)\n",
    "\n",
    "6 --> Values (Integer)\n",
    "\n",
    "\"\"\""
   ]
  },
  {
   "cell_type": "markdown",
   "id": "c123c2e1",
   "metadata": {},
   "source": [
    " "
   ]
  },
  {
   "cell_type": "markdown",
   "id": "20a617f7",
   "metadata": {},
   "source": [
    "##### Question 2"
   ]
  },
  {
   "cell_type": "markdown",
   "id": "0e542bac",
   "metadata": {},
   "source": [
    "**Variable** = These are objects or entities which store value/data. They are reserved memory locations. They can be of different datatypes - integer, float, string, boolean, complex, list, tuples, set, dictionary. Variable name cannot start with a number or have any special characters other than \"_\"\n",
    "\n",
    "**String** = It is a specific datatype that is assigned to a variable. It is a bit of text that needs to be enclosed in double or single quotes for single line strings and triple quotes for multi-line strings.\n",
    "\n"
   ]
  },
  {
   "cell_type": "markdown",
   "id": "a116ca5f",
   "metadata": {},
   "source": [
    "  "
   ]
  },
  {
   "cell_type": "markdown",
   "id": "039b6e81",
   "metadata": {},
   "source": [
    "##### Question 3"
   ]
  },
  {
   "cell_type": "markdown",
   "id": "1e091aed",
   "metadata": {},
   "source": [
    "**Integers:** Example --> (1,2,3,-9,-7,...)\n",
    "**Float:** Example --> (1.0,2.4,-4.7,...)\n",
    "**String:** Example --> (\"Ronnie\",\"abc\",...)"
   ]
  },
  {
   "cell_type": "markdown",
   "id": "2dd23585",
   "metadata": {},
   "source": [
    " "
   ]
  },
  {
   "cell_type": "markdown",
   "id": "aa3d9e11",
   "metadata": {},
   "source": [
    "##### Question 4"
   ]
  },
  {
   "cell_type": "markdown",
   "id": "f4fc6742",
   "metadata": {},
   "source": [
    "An expression is made up of a combination of operators and operands to produce a new value. They are evaluated as per operator precendence.\n",
    "\n",
    "1. Parenthesis\n",
    "2. Exponent\n",
    "3. Unary\n",
    "4. Multiplication, Division\n",
    "5. Addition, Substraction\n",
    "6. \"<<\" (BIT Left Shift)\n",
    "7. \">>\" (BIT Right Shift)\n",
    "8. BIT AND\n",
    "9. BIT XOR\n",
    "10. BIT OR\n",
    "11. Comparison Operator\n",
    "12. Equality Operator\n",
    "13. Assignment Operator\n",
    "14. Membership Operator\n",
    "15. Logical Operator"
   ]
  },
  {
   "cell_type": "markdown",
   "id": "eb82ada2",
   "metadata": {},
   "source": [
    " "
   ]
  },
  {
   "cell_type": "markdown",
   "id": "16e5aad0",
   "metadata": {},
   "source": [
    "##### Question 5"
   ]
  },
  {
   "cell_type": "markdown",
   "id": "1845d6ef",
   "metadata": {},
   "source": [
    "\n",
    "\n",
    "**Expression** execution with use of opeators always leads to the result.\n",
    "\n",
    "**Statement** - execution of a statement may not display a result. It just executes the line"
   ]
  },
  {
   "cell_type": "markdown",
   "id": "5df9f93f",
   "metadata": {},
   "source": [
    "  "
   ]
  },
  {
   "cell_type": "markdown",
   "id": "c2ad4000",
   "metadata": {},
   "source": [
    "##### Question 6"
   ]
  },
  {
   "cell_type": "code",
   "execution_count": 2,
   "id": "9946f65e",
   "metadata": {},
   "outputs": [
    {
     "data": {
      "text/plain": [
       "23"
      ]
     },
     "execution_count": 2,
     "metadata": {},
     "output_type": "execute_result"
    }
   ],
   "source": [
    "bacon = 22\n",
    "bacon+1"
   ]
  },
  {
   "cell_type": "markdown",
   "id": "a40e59a1",
   "metadata": {},
   "source": [
    "  "
   ]
  },
  {
   "cell_type": "markdown",
   "id": "192cf988",
   "metadata": {},
   "source": [
    "##### Question 7"
   ]
  },
  {
   "cell_type": "code",
   "execution_count": 3,
   "id": "2e4a828c",
   "metadata": {},
   "outputs": [
    {
     "data": {
      "text/plain": [
       "'spamspamspam'"
      ]
     },
     "execution_count": 3,
     "metadata": {},
     "output_type": "execute_result"
    }
   ],
   "source": [
    "\"spam\"+\"spamspam\""
   ]
  },
  {
   "cell_type": "code",
   "execution_count": 4,
   "id": "73961dc6",
   "metadata": {},
   "outputs": [
    {
     "data": {
      "text/plain": [
       "'spamspamspam'"
      ]
     },
     "execution_count": 4,
     "metadata": {},
     "output_type": "execute_result"
    }
   ],
   "source": [
    "\"spam\"*3"
   ]
  },
  {
   "cell_type": "markdown",
   "id": "d5f9bd08",
   "metadata": {},
   "source": [
    "  "
   ]
  },
  {
   "cell_type": "markdown",
   "id": "14384fa9",
   "metadata": {},
   "source": [
    "##### Question 8"
   ]
  },
  {
   "cell_type": "markdown",
   "id": "e2146a48",
   "metadata": {},
   "source": [
    " The variable naming convention:\n",
    " \n",
    " 1. I should contain characters from [a-z] or [A-Z] or a combination of both\n",
    " 2. It should not start with a number\n",
    " 3. The only special character allowed is \"_\" (underscore)\n",
    " 4. The variable name can begin only with a letter or an underscore\n",
    " \n",
    " \n",
    " Based on the above \"eggs\" is a valid name while 100 starts with the number 1 which is not a valid variable name\n",
    " "
   ]
  },
  {
   "cell_type": "markdown",
   "id": "e2166196",
   "metadata": {},
   "source": [
    "  "
   ]
  },
  {
   "cell_type": "markdown",
   "id": "82fff14d",
   "metadata": {},
   "source": [
    "##### Question 9"
   ]
  },
  {
   "cell_type": "markdown",
   "id": "f14a392d",
   "metadata": {},
   "source": [
    " int()\n",
    " float()\n",
    " str()"
   ]
  },
  {
   "cell_type": "code",
   "execution_count": 8,
   "id": "ffa53b87",
   "metadata": {},
   "outputs": [
    {
     "data": {
      "text/plain": [
       "9"
      ]
     },
     "execution_count": 8,
     "metadata": {},
     "output_type": "execute_result"
    }
   ],
   "source": [
    "int(9.0)"
   ]
  },
  {
   "cell_type": "code",
   "execution_count": 9,
   "id": "e7afd893",
   "metadata": {},
   "outputs": [
    {
     "data": {
      "text/plain": [
       "7.0"
      ]
     },
     "execution_count": 9,
     "metadata": {},
     "output_type": "execute_result"
    }
   ],
   "source": [
    "float(7)"
   ]
  },
  {
   "cell_type": "code",
   "execution_count": 10,
   "id": "883d9377",
   "metadata": {},
   "outputs": [
    {
     "data": {
      "text/plain": [
       "'9'"
      ]
     },
     "execution_count": 10,
     "metadata": {},
     "output_type": "execute_result"
    }
   ],
   "source": [
    "str(9)"
   ]
  },
  {
   "cell_type": "markdown",
   "id": "04acf74f",
   "metadata": {},
   "source": [
    " "
   ]
  },
  {
   "cell_type": "markdown",
   "id": "d6dd144b",
   "metadata": {},
   "source": [
    " ##### Question 10"
   ]
  },
  {
   "cell_type": "markdown",
   "id": "bbafec7f",
   "metadata": {},
   "source": [
    "The expression causes and error because we are trying to concatenate a string with an integer which are both different data types.\n",
    "\n",
    "The solution is to convert 99 into string and then concatenate"
   ]
  },
  {
   "cell_type": "code",
   "execution_count": 12,
   "id": "95fb3eff",
   "metadata": {},
   "outputs": [
    {
     "data": {
      "text/plain": [
       "'I have eaten 99 burritos.'"
      ]
     },
     "execution_count": 12,
     "metadata": {},
     "output_type": "execute_result"
    }
   ],
   "source": [
    "\"I have eaten \" + str(99) + \" burritos.\""
   ]
  },
  {
   "cell_type": "code",
   "execution_count": null,
   "id": "be26f5be",
   "metadata": {},
   "outputs": [],
   "source": []
  }
 ],
 "metadata": {
  "kernelspec": {
   "display_name": "Python 3 (ipykernel)",
   "language": "python",
   "name": "python3"
  },
  "language_info": {
   "codemirror_mode": {
    "name": "ipython",
    "version": 3
   },
   "file_extension": ".py",
   "mimetype": "text/x-python",
   "name": "python",
   "nbconvert_exporter": "python",
   "pygments_lexer": "ipython3",
   "version": "3.8.12"
  }
 },
 "nbformat": 4,
 "nbformat_minor": 5
}
