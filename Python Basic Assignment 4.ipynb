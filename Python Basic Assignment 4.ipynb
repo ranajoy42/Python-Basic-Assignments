{
 "cells": [
  {
   "cell_type": "code",
   "execution_count": 1,
   "id": "714edbda",
   "metadata": {},
   "outputs": [],
   "source": [
    "# Question 1"
   ]
  },
  {
   "cell_type": "code",
   "execution_count": 2,
   "id": "518bdbc6",
   "metadata": {},
   "outputs": [
    {
     "data": {
      "text/plain": [
       "list"
      ]
     },
     "execution_count": 2,
     "metadata": {},
     "output_type": "execute_result"
    }
   ],
   "source": [
    "a=[]\n",
    "type(a)"
   ]
  },
  {
   "cell_type": "markdown",
   "id": "7bd3120e",
   "metadata": {},
   "source": [
    " This is basically an empty list that is created"
   ]
  },
  {
   "cell_type": "code",
   "execution_count": 3,
   "id": "b43008b8",
   "metadata": {},
   "outputs": [],
   "source": [
    "# Question 2"
   ]
  },
  {
   "cell_type": "code",
   "execution_count": 7,
   "id": "546506a9",
   "metadata": {},
   "outputs": [],
   "source": [
    "spam=[2,4,6,8,10]\n"
   ]
  },
  {
   "cell_type": "code",
   "execution_count": 8,
   "id": "3ac4a8a0",
   "metadata": {},
   "outputs": [
    {
     "data": {
      "text/plain": [
       "[2, 4, 'Hello', 6, 8, 10]"
      ]
     },
     "execution_count": 8,
     "metadata": {},
     "output_type": "execute_result"
    }
   ],
   "source": [
    "spam.insert(2,\"Hello\")\n",
    "spam"
   ]
  },
  {
   "cell_type": "markdown",
   "id": "edf57ec8",
   "metadata": {},
   "source": [
    " "
   ]
  },
  {
   "cell_type": "code",
   "execution_count": 9,
   "id": "9e8a208c",
   "metadata": {},
   "outputs": [],
   "source": [
    "# Question 3,4,5"
   ]
  },
  {
   "cell_type": "code",
   "execution_count": 10,
   "id": "da394d06",
   "metadata": {},
   "outputs": [],
   "source": [
    "spam1=[\"a\",\"b\",\"c\",\"d\"]"
   ]
  },
  {
   "cell_type": "code",
   "execution_count": 11,
   "id": "2cc876f4",
   "metadata": {},
   "outputs": [
    {
     "data": {
      "text/plain": [
       "'d'"
      ]
     },
     "execution_count": 11,
     "metadata": {},
     "output_type": "execute_result"
    }
   ],
   "source": [
    "spam1[int(int('3' * 2) / 11)]"
   ]
  },
  {
   "cell_type": "code",
   "execution_count": 13,
   "id": "8dcb1d6b",
   "metadata": {},
   "outputs": [
    {
     "data": {
      "text/plain": [
       "'d'"
      ]
     },
     "execution_count": 13,
     "metadata": {},
     "output_type": "execute_result"
    }
   ],
   "source": [
    "spam1[-1]"
   ]
  },
  {
   "cell_type": "code",
   "execution_count": 15,
   "id": "ddc262eb",
   "metadata": {},
   "outputs": [
    {
     "data": {
      "text/plain": [
       "['a', 'b']"
      ]
     },
     "execution_count": 15,
     "metadata": {},
     "output_type": "execute_result"
    }
   ],
   "source": [
    "spam1[:2]"
   ]
  },
  {
   "cell_type": "markdown",
   "id": "58fcf821",
   "metadata": {},
   "source": [
    " "
   ]
  },
  {
   "cell_type": "code",
   "execution_count": 16,
   "id": "3da10e4b",
   "metadata": {},
   "outputs": [],
   "source": [
    "# Question 6,7,8"
   ]
  },
  {
   "cell_type": "code",
   "execution_count": 18,
   "id": "32c7d2e8",
   "metadata": {},
   "outputs": [],
   "source": [
    "bacon = [3.14, 'cat', 11, 'cat', True]"
   ]
  },
  {
   "cell_type": "code",
   "execution_count": 19,
   "id": "31c5506e",
   "metadata": {},
   "outputs": [
    {
     "data": {
      "text/plain": [
       "1"
      ]
     },
     "execution_count": 19,
     "metadata": {},
     "output_type": "execute_result"
    }
   ],
   "source": [
    "bacon.index(\"cat\")"
   ]
  },
  {
   "cell_type": "code",
   "execution_count": 20,
   "id": "6d0a2537",
   "metadata": {},
   "outputs": [],
   "source": [
    "bacon.append(99)\n"
   ]
  },
  {
   "cell_type": "code",
   "execution_count": 21,
   "id": "df16fdc6",
   "metadata": {},
   "outputs": [
    {
     "data": {
      "text/plain": [
       "[3.14, 'cat', 11, 'cat', True, 99]"
      ]
     },
     "execution_count": 21,
     "metadata": {},
     "output_type": "execute_result"
    }
   ],
   "source": [
    "bacon"
   ]
  },
  {
   "cell_type": "code",
   "execution_count": 22,
   "id": "d211c628",
   "metadata": {},
   "outputs": [],
   "source": [
    "bacon.remove(\"cat\")"
   ]
  },
  {
   "cell_type": "code",
   "execution_count": 23,
   "id": "c844b277",
   "metadata": {},
   "outputs": [
    {
     "data": {
      "text/plain": [
       "[3.14, 11, 'cat', True, 99]"
      ]
     },
     "execution_count": 23,
     "metadata": {},
     "output_type": "execute_result"
    }
   ],
   "source": [
    "bacon"
   ]
  },
  {
   "cell_type": "markdown",
   "id": "56b50d9a",
   "metadata": {},
   "source": [
    " "
   ]
  },
  {
   "cell_type": "code",
   "execution_count": 24,
   "id": "c87ca99f",
   "metadata": {},
   "outputs": [],
   "source": [
    "# Question 9"
   ]
  },
  {
   "cell_type": "code",
   "execution_count": 25,
   "id": "958fe24d",
   "metadata": {},
   "outputs": [],
   "source": [
    "list1=[1,2,3,4,5]\n",
    "list2=[\"a\",\"b\",\"c\",\"d\",\"e\"]"
   ]
  },
  {
   "cell_type": "code",
   "execution_count": 26,
   "id": "2c0c78d2",
   "metadata": {},
   "outputs": [
    {
     "data": {
      "text/plain": [
       "[1, 2, 3, 4, 5, 'a', 'b', 'c', 'd', 'e']"
      ]
     },
     "execution_count": 26,
     "metadata": {},
     "output_type": "execute_result"
    }
   ],
   "source": [
    "# Concatenation (Join elements of two list and gives a new list)\n",
    "\n",
    "list1+list2"
   ]
  },
  {
   "cell_type": "code",
   "execution_count": 27,
   "id": "e1bf5b78",
   "metadata": {},
   "outputs": [],
   "source": [
    "# Replication (Repeats the element of the list to give a new list)"
   ]
  },
  {
   "cell_type": "code",
   "execution_count": 28,
   "id": "47e03e60",
   "metadata": {},
   "outputs": [
    {
     "data": {
      "text/plain": [
       "[1, 2, 3, 4, 5, 1, 2, 3, 4, 5]"
      ]
     },
     "execution_count": 28,
     "metadata": {},
     "output_type": "execute_result"
    }
   ],
   "source": [
    "list1*2"
   ]
  },
  {
   "cell_type": "markdown",
   "id": "97a22978",
   "metadata": {},
   "source": [
    " "
   ]
  },
  {
   "cell_type": "code",
   "execution_count": 29,
   "id": "249b7a30",
   "metadata": {},
   "outputs": [],
   "source": [
    "# Question 10"
   ]
  },
  {
   "cell_type": "code",
   "execution_count": 30,
   "id": "17d57f04",
   "metadata": {},
   "outputs": [
    {
     "data": {
      "text/plain": [
       "[1, 2, 3, 4, 5]"
      ]
     },
     "execution_count": 30,
     "metadata": {},
     "output_type": "execute_result"
    }
   ],
   "source": [
    "list1"
   ]
  },
  {
   "cell_type": "code",
   "execution_count": 31,
   "id": "157065a7",
   "metadata": {},
   "outputs": [],
   "source": [
    "list1.append(100) # Adds the element to the end of the list"
   ]
  },
  {
   "cell_type": "code",
   "execution_count": 32,
   "id": "baba7e9d",
   "metadata": {},
   "outputs": [
    {
     "data": {
      "text/plain": [
       "[1, 2, 3, 4, 5, 100]"
      ]
     },
     "execution_count": 32,
     "metadata": {},
     "output_type": "execute_result"
    }
   ],
   "source": [
    "list1"
   ]
  },
  {
   "cell_type": "code",
   "execution_count": 33,
   "id": "74544ea8",
   "metadata": {},
   "outputs": [],
   "source": [
    "list1.insert(3,\"Ronnie\") # Insert the object(\"Ronnie\") before the index (3) ie before the interger 4 in the list1 above"
   ]
  },
  {
   "cell_type": "code",
   "execution_count": 34,
   "id": "96a1fde6",
   "metadata": {},
   "outputs": [
    {
     "data": {
      "text/plain": [
       "[1, 2, 3, 'Ronnie', 4, 5, 100]"
      ]
     },
     "execution_count": 34,
     "metadata": {},
     "output_type": "execute_result"
    }
   ],
   "source": [
    "list1"
   ]
  },
  {
   "cell_type": "markdown",
   "id": "1e942be7",
   "metadata": {},
   "source": [
    " "
   ]
  },
  {
   "cell_type": "code",
   "execution_count": 35,
   "id": "ab348c78",
   "metadata": {},
   "outputs": [],
   "source": [
    "# Question 11"
   ]
  },
  {
   "cell_type": "code",
   "execution_count": 40,
   "id": "50edf255",
   "metadata": {},
   "outputs": [
    {
     "data": {
      "text/plain": [
       "[1, 3, 5, 7, 9, 11, 13, 15, 17, 19]"
      ]
     },
     "execution_count": 40,
     "metadata": {},
     "output_type": "execute_result"
    }
   ],
   "source": [
    "list1=list(range(1,20,2))\n",
    "list1"
   ]
  },
  {
   "cell_type": "code",
   "execution_count": 41,
   "id": "3098ba0d",
   "metadata": {},
   "outputs": [],
   "source": [
    "list1.remove(5) # Using remove function"
   ]
  },
  {
   "cell_type": "code",
   "execution_count": 42,
   "id": "97fd1e7d",
   "metadata": {},
   "outputs": [
    {
     "data": {
      "text/plain": [
       "[1, 3, 7, 9, 11, 13, 15, 17, 19]"
      ]
     },
     "execution_count": 42,
     "metadata": {},
     "output_type": "execute_result"
    }
   ],
   "source": [
    "list1"
   ]
  },
  {
   "cell_type": "code",
   "execution_count": 44,
   "id": "9eda522e",
   "metadata": {},
   "outputs": [
    {
     "data": {
      "text/plain": [
       "17"
      ]
     },
     "execution_count": 44,
     "metadata": {},
     "output_type": "execute_result"
    }
   ],
   "source": [
    "list1.pop(-2) # This pops out the element defined in the index number from the list"
   ]
  },
  {
   "cell_type": "code",
   "execution_count": 45,
   "id": "310fb65c",
   "metadata": {},
   "outputs": [
    {
     "data": {
      "text/plain": [
       "[1, 3, 7, 9, 11, 13, 15, 19]"
      ]
     },
     "execution_count": 45,
     "metadata": {},
     "output_type": "execute_result"
    }
   ],
   "source": [
    "list1  # integer 17 has been removed"
   ]
  },
  {
   "cell_type": "markdown",
   "id": "04d0fa26",
   "metadata": {},
   "source": [
    " "
   ]
  },
  {
   "cell_type": "code",
   "execution_count": 47,
   "id": "1ed605a3",
   "metadata": {},
   "outputs": [],
   "source": [
    "# Question 12"
   ]
  },
  {
   "cell_type": "markdown",
   "id": "0d6a60ac",
   "metadata": {},
   "source": [
    "Both strings and lists are sequences - string is a sequence of characters while list is a sequence of heterogenous elements. \n",
    "\n",
    "Both strings and lists are iterables as we are able to loop over them"
   ]
  },
  {
   "cell_type": "code",
   "execution_count": 48,
   "id": "b38efb75",
   "metadata": {},
   "outputs": [],
   "source": [
    "# Question 13"
   ]
  },
  {
   "cell_type": "code",
   "execution_count": 49,
   "id": "1a76e259",
   "metadata": {},
   "outputs": [],
   "source": [
    "list2=[1,2,3,\"a\",False,7.0,8+9j]"
   ]
  },
  {
   "cell_type": "markdown",
   "id": "6fc69e18",
   "metadata": {},
   "source": [
    "List datatypes are heterogenous elements enclosed in []. They are mutable, ordered\n",
    "\n",
    "Tuples datatypes are heterogenous elements enclosed in (). They are ordered but immutable in nature"
   ]
  },
  {
   "cell_type": "code",
   "execution_count": 50,
   "id": "849b9c6d",
   "metadata": {},
   "outputs": [
    {
     "data": {
      "text/plain": [
       "(1, 2, 3, 'a', False, 7.0, (8+9j))"
      ]
     },
     "execution_count": 50,
     "metadata": {},
     "output_type": "execute_result"
    }
   ],
   "source": [
    "tup2=(1,2,3,\"a\",False,7.0,8+9j)\n",
    "tup2"
   ]
  },
  {
   "cell_type": "code",
   "execution_count": 51,
   "id": "f93f9de2",
   "metadata": {},
   "outputs": [
    {
     "ename": "TypeError",
     "evalue": "'tuple' object does not support item assignment",
     "output_type": "error",
     "traceback": [
      "\u001b[1;31m---------------------------------------------------------------------------\u001b[0m",
      "\u001b[1;31mTypeError\u001b[0m                                 Traceback (most recent call last)",
      "\u001b[1;32m~\\AppData\\Local\\Temp/ipykernel_19860/2730664200.py\u001b[0m in \u001b[0;36m<module>\u001b[1;34m\u001b[0m\n\u001b[1;32m----> 1\u001b[1;33m \u001b[0mtup2\u001b[0m\u001b[1;33m[\u001b[0m\u001b[1;36m0\u001b[0m\u001b[1;33m]\u001b[0m\u001b[1;33m=\u001b[0m\u001b[1;34m\"A\"\u001b[0m\u001b[1;33m\u001b[0m\u001b[1;33m\u001b[0m\u001b[0m\n\u001b[0m",
      "\u001b[1;31mTypeError\u001b[0m: 'tuple' object does not support item assignment"
     ]
    }
   ],
   "source": [
    "tup2[0]=\"A\""
   ]
  },
  {
   "cell_type": "markdown",
   "id": "486fdb0b",
   "metadata": {},
   "source": [
    " "
   ]
  },
  {
   "cell_type": "code",
   "execution_count": 52,
   "id": "090e25f1",
   "metadata": {},
   "outputs": [],
   "source": [
    "# Question 14"
   ]
  },
  {
   "cell_type": "code",
   "execution_count": 63,
   "id": "b1091a34",
   "metadata": {},
   "outputs": [
    {
     "data": {
      "text/plain": [
       "(42,)"
      ]
     },
     "execution_count": 63,
     "metadata": {},
     "output_type": "execute_result"
    }
   ],
   "source": [
    "tup3=(42,)\n",
    "tup3"
   ]
  },
  {
   "cell_type": "code",
   "execution_count": 64,
   "id": "28620325",
   "metadata": {},
   "outputs": [
    {
     "data": {
      "text/plain": [
       "tuple"
      ]
     },
     "execution_count": 64,
     "metadata": {},
     "output_type": "execute_result"
    }
   ],
   "source": [
    "type(tup3)"
   ]
  },
  {
   "cell_type": "code",
   "execution_count": 65,
   "id": "261093c5",
   "metadata": {},
   "outputs": [],
   "source": [
    "# Question 15"
   ]
  },
  {
   "cell_type": "code",
   "execution_count": 67,
   "id": "bdebe515",
   "metadata": {},
   "outputs": [
    {
     "data": {
      "text/plain": [
       "(1, 2, 3, 4, 5)"
      ]
     },
     "execution_count": 67,
     "metadata": {},
     "output_type": "execute_result"
    }
   ],
   "source": [
    "list5=tuple([1,2,3,4,5])\n",
    "list5\n",
    "\n"
   ]
  },
  {
   "cell_type": "code",
   "execution_count": 68,
   "id": "9e2dd895",
   "metadata": {},
   "outputs": [
    {
     "data": {
      "text/plain": [
       "[1, 2, 3, 4, 5]"
      ]
     },
     "execution_count": 68,
     "metadata": {},
     "output_type": "execute_result"
    }
   ],
   "source": [
    "tup5=list((1,2,3,4,5))\n",
    "tup5"
   ]
  },
  {
   "cell_type": "markdown",
   "id": "66686293",
   "metadata": {},
   "source": [
    " "
   ]
  },
  {
   "cell_type": "code",
   "execution_count": 69,
   "id": "9b87f53a",
   "metadata": {},
   "outputs": [],
   "source": [
    "# Question 16"
   ]
  },
  {
   "cell_type": "markdown",
   "id": "a0705dbf",
   "metadata": {},
   "source": [
    "Variables that contain list values actually contains references to that list values rather than the actual elements"
   ]
  },
  {
   "cell_type": "code",
   "execution_count": 70,
   "id": "7eb7e1e6",
   "metadata": {},
   "outputs": [],
   "source": [
    "# Question 17"
   ]
  },
  {
   "cell_type": "markdown",
   "id": "aaa365ca",
   "metadata": {},
   "source": [
    "copy.copy() --> Shallow copy basically used for mutable objects which does not have nested mutable objects within it. Example: lists. \n",
    "\n",
    "It creates a new object and inserts into it the object references found in the original object"
   ]
  },
  {
   "cell_type": "code",
   "execution_count": 71,
   "id": "6a0c4750",
   "metadata": {},
   "outputs": [
    {
     "data": {
      "text/plain": [
       "[1, 2, 3, 4, 5]"
      ]
     },
     "execution_count": 71,
     "metadata": {},
     "output_type": "execute_result"
    }
   ],
   "source": [
    "list_a = [1,2,3,4,5]\n",
    "\n",
    "import copy\n",
    "\n",
    "list_b = copy.copy(list_a)\n",
    "list_b"
   ]
  },
  {
   "cell_type": "code",
   "execution_count": 72,
   "id": "259273ab",
   "metadata": {},
   "outputs": [],
   "source": [
    "list_b[0]=\"Ronnie\""
   ]
  },
  {
   "cell_type": "code",
   "execution_count": 73,
   "id": "7f112ae6",
   "metadata": {},
   "outputs": [
    {
     "name": "stdout",
     "output_type": "stream",
     "text": [
      "['Ronnie', 2, 3, 4, 5]\n",
      "[1, 2, 3, 4, 5]\n"
     ]
    }
   ],
   "source": [
    "print(list_b);print(list_a)"
   ]
  },
  {
   "cell_type": "markdown",
   "id": "acd8fd03",
   "metadata": {},
   "source": [
    "copy.deepcopy() --> Deep Copy basically used for mutable objects which have nested mutable objects within it. EX: List within a list\n",
    "\n",
    "It creates a new object and recursively inserts into it the references found in the original object"
   ]
  },
  {
   "cell_type": "code",
   "execution_count": 74,
   "id": "24029571",
   "metadata": {},
   "outputs": [
    {
     "data": {
      "text/plain": [
       "[1, 2, [3, 4], 5, 6]"
      ]
     },
     "execution_count": 74,
     "metadata": {},
     "output_type": "execute_result"
    }
   ],
   "source": [
    "list_c=[1,2,[3,4],5,6]\n",
    "\n",
    "import copy\n",
    "\n",
    "list_d = copy.deepcopy(list_c)\n",
    "list_d"
   ]
  },
  {
   "cell_type": "code",
   "execution_count": 75,
   "id": "7144266a",
   "metadata": {},
   "outputs": [
    {
     "data": {
      "text/plain": [
       "[1, 2, ['Ram', 4], 5, 6]"
      ]
     },
     "execution_count": 75,
     "metadata": {},
     "output_type": "execute_result"
    }
   ],
   "source": [
    "list_d[2][0]=\"Ram\"\n",
    "list_d"
   ]
  },
  {
   "cell_type": "code",
   "execution_count": 76,
   "id": "8ab3c896",
   "metadata": {},
   "outputs": [
    {
     "data": {
      "text/plain": [
       "[1, 2, [3, 4], 5, 6]"
      ]
     },
     "execution_count": 76,
     "metadata": {},
     "output_type": "execute_result"
    }
   ],
   "source": [
    "list_c"
   ]
  },
  {
   "cell_type": "code",
   "execution_count": null,
   "id": "c9e69188",
   "metadata": {},
   "outputs": [],
   "source": []
  }
 ],
 "metadata": {
  "kernelspec": {
   "display_name": "Python 3 (ipykernel)",
   "language": "python",
   "name": "python3"
  },
  "language_info": {
   "codemirror_mode": {
    "name": "ipython",
    "version": 3
   },
   "file_extension": ".py",
   "mimetype": "text/x-python",
   "name": "python",
   "nbconvert_exporter": "python",
   "pygments_lexer": "ipython3",
   "version": "3.8.12"
  }
 },
 "nbformat": 4,
 "nbformat_minor": 5
}
