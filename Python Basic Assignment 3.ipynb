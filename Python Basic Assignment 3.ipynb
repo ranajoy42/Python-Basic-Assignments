{
 "cells": [
  {
   "cell_type": "code",
   "execution_count": 1,
   "id": "b357e9f2",
   "metadata": {},
   "outputs": [],
   "source": [
    "# Question 1"
   ]
  },
  {
   "cell_type": "markdown",
   "id": "90e3c301",
   "metadata": {},
   "source": [
    "Functions prevent re-writing the same code again and again if that needs to be used multiple times in a program. Functions also help to write modular programs"
   ]
  },
  {
   "cell_type": "code",
   "execution_count": 2,
   "id": "c302adfb",
   "metadata": {},
   "outputs": [],
   "source": [
    "# Question 2"
   ]
  },
  {
   "cell_type": "markdown",
   "id": "f8dd4fde",
   "metadata": {},
   "source": [
    "The code in a function runs when it is called"
   ]
  },
  {
   "cell_type": "code",
   "execution_count": 3,
   "id": "05bd2891",
   "metadata": {},
   "outputs": [],
   "source": [
    "# Question 3"
   ]
  },
  {
   "cell_type": "markdown",
   "id": "289b5bbc",
   "metadata": {},
   "source": [
    "\"def\" statement creates a function"
   ]
  },
  {
   "cell_type": "code",
   "execution_count": null,
   "id": "afbd1391",
   "metadata": {},
   "outputs": [],
   "source": [
    "# Question 4"
   ]
  },
  {
   "cell_type": "code",
   "execution_count": 4,
   "id": "bd713892",
   "metadata": {},
   "outputs": [
    {
     "name": "stdout",
     "output_type": "stream",
     "text": [
      "Hello\n"
     ]
    }
   ],
   "source": [
    "def func1(): # Defining a function\n",
    "    print(\"Hello\")\n",
    "    \n",
    "func1() # Calling a function"
   ]
  },
  {
   "cell_type": "code",
   "execution_count": 5,
   "id": "4e8e748e",
   "metadata": {},
   "outputs": [],
   "source": [
    "# Question 4"
   ]
  },
  {
   "cell_type": "markdown",
   "id": "e07dbf54",
   "metadata": {},
   "source": [
    " There is only one global scope for each program execution. This remains in force till the program terminates.\n",
    " \n",
    " There is only one local scope for variables defined within a specific function"
   ]
  },
  {
   "cell_type": "code",
   "execution_count": 6,
   "id": "7ee8530a",
   "metadata": {},
   "outputs": [],
   "source": [
    "# Question 5"
   ]
  },
  {
   "cell_type": "markdown",
   "id": "c2811cad",
   "metadata": {},
   "source": [
    "Local variables are destroyed when the function call is returned."
   ]
  },
  {
   "cell_type": "code",
   "execution_count": 7,
   "id": "1889e72d",
   "metadata": {},
   "outputs": [],
   "source": [
    "# Question 6"
   ]
  },
  {
   "cell_type": "code",
   "execution_count": 8,
   "id": "14bbfdb9",
   "metadata": {},
   "outputs": [],
   "source": [
    "def test1():\n",
    "    a=1\n",
    "    return a"
   ]
  },
  {
   "cell_type": "code",
   "execution_count": 9,
   "id": "feebcfb9",
   "metadata": {},
   "outputs": [
    {
     "data": {
      "text/plain": [
       "1"
      ]
     },
     "execution_count": 9,
     "metadata": {},
     "output_type": "execute_result"
    }
   ],
   "source": [
    "test1()"
   ]
  },
  {
   "cell_type": "markdown",
   "id": "841416b8",
   "metadata": {},
   "source": [
    "The return value is a value that is returned by the function after it performs its execution. It is used to end the execution of the function. Any statements within a function after the return statement are not executed. \n",
    "\n",
    "Yes it is possible to use a return value in an expression"
   ]
  },
  {
   "cell_type": "code",
   "execution_count": 11,
   "id": "a9c8f22b",
   "metadata": {},
   "outputs": [
    {
     "data": {
      "text/plain": [
       "6"
      ]
     },
     "execution_count": 11,
     "metadata": {},
     "output_type": "execute_result"
    }
   ],
   "source": [
    "test1()+5"
   ]
  },
  {
   "cell_type": "markdown",
   "id": "ee2a1f02",
   "metadata": {},
   "source": [
    " "
   ]
  },
  {
   "cell_type": "code",
   "execution_count": 12,
   "id": "9c021d69",
   "metadata": {},
   "outputs": [],
   "source": [
    "# Question 8"
   ]
  },
  {
   "cell_type": "code",
   "execution_count": 13,
   "id": "79899ade",
   "metadata": {},
   "outputs": [],
   "source": [
    "def test2():\n",
    "    a=2\n",
    "   "
   ]
  },
  {
   "cell_type": "code",
   "execution_count": 15,
   "id": "4d86c0ef",
   "metadata": {},
   "outputs": [
    {
     "name": "stdout",
     "output_type": "stream",
     "text": [
      "None\n"
     ]
    }
   ],
   "source": [
    "m=test2()\n",
    "print(m)  "
   ]
  },
  {
   "cell_type": "markdown",
   "id": "f876ae88",
   "metadata": {},
   "source": [
    "If a function does not have a return statement, the return value of a call to that function has a value None"
   ]
  },
  {
   "cell_type": "markdown",
   "id": "4ca5c5fb",
   "metadata": {},
   "source": [
    " "
   ]
  },
  {
   "cell_type": "code",
   "execution_count": 16,
   "id": "1c7999b3",
   "metadata": {},
   "outputs": [],
   "source": [
    "# Question 9"
   ]
  },
  {
   "cell_type": "code",
   "execution_count": 22,
   "id": "83bb7be6",
   "metadata": {},
   "outputs": [
    {
     "name": "stdout",
     "output_type": "stream",
     "text": [
      "Hello\n"
     ]
    }
   ],
   "source": [
    "s=\"Hello\"\n",
    "\n",
    "def test3():\n",
    "    print(s)\n",
    "\n",
    "test3()\n",
    "\n"
   ]
  },
  {
   "cell_type": "code",
   "execution_count": 25,
   "id": "669d94ba",
   "metadata": {},
   "outputs": [],
   "source": [
    "# Question 10"
   ]
  },
  {
   "cell_type": "code",
   "execution_count": 26,
   "id": "97d01841",
   "metadata": {},
   "outputs": [
    {
     "data": {
      "text/plain": [
       "NoneType"
      ]
     },
     "execution_count": 26,
     "metadata": {},
     "output_type": "execute_result"
    }
   ],
   "source": [
    "type(None)"
   ]
  },
  {
   "cell_type": "code",
   "execution_count": 28,
   "id": "50f01365",
   "metadata": {},
   "outputs": [],
   "source": [
    "# Question 11"
   ]
  },
  {
   "cell_type": "markdown",
   "id": "c40642b9",
   "metadata": {},
   "source": [
    "If we have defined a module \"import areallyourpetsnamederic\" which has functions then the statement will import the entire module with all its associated functions.\n",
    "\n"
   ]
  },
  {
   "cell_type": "code",
   "execution_count": 29,
   "id": "b42db985",
   "metadata": {},
   "outputs": [],
   "source": [
    "# Question 12"
   ]
  },
  {
   "cell_type": "markdown",
   "id": "c2d2e095",
   "metadata": {},
   "source": [
    "import spam as sp\n",
    "\n",
    "sp.bacon()"
   ]
  },
  {
   "cell_type": "code",
   "execution_count": 30,
   "id": "1701db4d",
   "metadata": {},
   "outputs": [],
   "source": [
    "# Question 13"
   ]
  },
  {
   "cell_type": "markdown",
   "id": "5017e533",
   "metadata": {},
   "source": [
    "Put the main program within the try block, put the exception in the except block. \n",
    "\n",
    "In this case if the main program crashes it will handle it as an exception Error in the except block.\n",
    "\n",
    "Here we are using error handling to prevent the crashing --> the except block (having the exception) will help to exit the program"
   ]
  },
  {
   "cell_type": "code",
   "execution_count": 33,
   "id": "675b23ae",
   "metadata": {},
   "outputs": [
    {
     "name": "stdout",
     "output_type": "stream",
     "text": [
      "Enter a number: 0\n",
      "You have given a value of zero leading to division by zero error.\n"
     ]
    }
   ],
   "source": [
    "num = int(input(\"Enter a number: \"))\n",
    "\n",
    "try:\n",
    "    m = 1/num\n",
    "    print(m)\n",
    "    \n",
    "except(ZeroDivisionError):\n",
    "    print(\"You have given a value of zero leading to division by zero error.\")"
   ]
  },
  {
   "cell_type": "markdown",
   "id": "11e65ff1",
   "metadata": {},
   "source": [
    " "
   ]
  },
  {
   "cell_type": "code",
   "execution_count": 34,
   "id": "aa97625c",
   "metadata": {},
   "outputs": [],
   "source": [
    "# Question 14"
   ]
  },
  {
   "cell_type": "markdown",
   "id": "81533009",
   "metadata": {},
   "source": [
    "A try block will test a block of code for errors. \n",
    "\n",
    "The except block helps you to handle these errors using user defined responses"
   ]
  },
  {
   "cell_type": "code",
   "execution_count": 35,
   "id": "333267c6",
   "metadata": {},
   "outputs": [
    {
     "name": "stdout",
     "output_type": "stream",
     "text": [
      "Enter a number: 0\n",
      "You have given a value of zero leading to division by zero error.\n"
     ]
    }
   ],
   "source": [
    "num = int(input(\"Enter a number: \"))\n",
    "\n",
    "try:\n",
    "    m = 1/num\n",
    "    print(m)\n",
    "    \n",
    "except(ZeroDivisionError):\n",
    "    print(\"You have given a value of zero leading to division by zero error.\")"
   ]
  },
  {
   "cell_type": "code",
   "execution_count": null,
   "id": "436a5e62",
   "metadata": {},
   "outputs": [],
   "source": []
  }
 ],
 "metadata": {
  "kernelspec": {
   "display_name": "Python 3 (ipykernel)",
   "language": "python",
   "name": "python3"
  },
  "language_info": {
   "codemirror_mode": {
    "name": "ipython",
    "version": 3
   },
   "file_extension": ".py",
   "mimetype": "text/x-python",
   "name": "python",
   "nbconvert_exporter": "python",
   "pygments_lexer": "ipython3",
   "version": "3.8.12"
  }
 },
 "nbformat": 4,
 "nbformat_minor": 5
}
