{
 "cells": [
  {
   "cell_type": "code",
   "execution_count": 6,
   "id": "bda0e956",
   "metadata": {},
   "outputs": [],
   "source": [
    "## Question 1\n",
    "\n",
    "a=True\n",
    "b=False\n",
    "\n"
   ]
  },
  {
   "cell_type": "code",
   "execution_count": 9,
   "id": "35a66539",
   "metadata": {},
   "outputs": [
    {
     "data": {
      "text/plain": [
       "0"
      ]
     },
     "execution_count": 9,
     "metadata": {},
     "output_type": "execute_result"
    }
   ],
   "source": [
    "## Question 2 \n",
    "\n",
    "## AND, OR, NOT\n",
    "\n",
    "a=1\n",
    "b=0\n",
    "\n",
    "\n",
    "\n",
    "a and b"
   ]
  },
  {
   "cell_type": "code",
   "execution_count": 10,
   "id": "a3aae694",
   "metadata": {},
   "outputs": [
    {
     "data": {
      "text/plain": [
       "1"
      ]
     },
     "execution_count": 10,
     "metadata": {},
     "output_type": "execute_result"
    }
   ],
   "source": [
    "a or b"
   ]
  },
  {
   "cell_type": "code",
   "execution_count": 11,
   "id": "a74d00ed",
   "metadata": {},
   "outputs": [
    {
     "data": {
      "text/plain": [
       "False"
      ]
     },
     "execution_count": 11,
     "metadata": {},
     "output_type": "execute_result"
    }
   ],
   "source": [
    "not(a)"
   ]
  },
  {
   "cell_type": "markdown",
   "id": "09f4e9a7",
   "metadata": {},
   "source": [
    "   "
   ]
  },
  {
   "cell_type": "code",
   "execution_count": 12,
   "id": "7e98b57b",
   "metadata": {},
   "outputs": [],
   "source": [
    "# Question 3"
   ]
  },
  {
   "attachments": {
    "image.png": {
     "image/png": "[encoded data removed]"
    }
   },
   "cell_type": "markdown",
   "id": "8e8f7347",
   "metadata": {},
   "source": [
    "![image.png](attachment:image.png)"
   ]
  },
  {
   "cell_type": "markdown",
   "id": "875b400b",
   "metadata": {},
   "source": [
    " "
   ]
  },
  {
   "cell_type": "code",
   "execution_count": 13,
   "id": "0a78ca62",
   "metadata": {},
   "outputs": [],
   "source": [
    "# Question 4"
   ]
  },
  {
   "cell_type": "code",
   "execution_count": 14,
   "id": "f6c28b39",
   "metadata": {},
   "outputs": [
    {
     "data": {
      "text/plain": [
       "False"
      ]
     },
     "execution_count": 14,
     "metadata": {},
     "output_type": "execute_result"
    }
   ],
   "source": [
    "(5 > 4) and (3 == 5)"
   ]
  },
  {
   "cell_type": "code",
   "execution_count": 15,
   "id": "aebabd54",
   "metadata": {},
   "outputs": [
    {
     "data": {
      "text/plain": [
       "False"
      ]
     },
     "execution_count": 15,
     "metadata": {},
     "output_type": "execute_result"
    }
   ],
   "source": [
    "not (5 > 4)"
   ]
  },
  {
   "cell_type": "code",
   "execution_count": 16,
   "id": "997dd6d8",
   "metadata": {},
   "outputs": [
    {
     "data": {
      "text/plain": [
       "True"
      ]
     },
     "execution_count": 16,
     "metadata": {},
     "output_type": "execute_result"
    }
   ],
   "source": [
    "(5 > 4) or (3 == 5)"
   ]
  },
  {
   "cell_type": "code",
   "execution_count": 17,
   "id": "58bd1535",
   "metadata": {},
   "outputs": [
    {
     "data": {
      "text/plain": [
       "False"
      ]
     },
     "execution_count": 17,
     "metadata": {},
     "output_type": "execute_result"
    }
   ],
   "source": [
    "not ((5 > 4) or (3 == 5))"
   ]
  },
  {
   "cell_type": "code",
   "execution_count": 18,
   "id": "e2432e9c",
   "metadata": {},
   "outputs": [
    {
     "data": {
      "text/plain": [
       "False"
      ]
     },
     "execution_count": 18,
     "metadata": {},
     "output_type": "execute_result"
    }
   ],
   "source": [
    "(True and True) and (True == False)"
   ]
  },
  {
   "cell_type": "code",
   "execution_count": 19,
   "id": "f1a9dc90",
   "metadata": {},
   "outputs": [
    {
     "data": {
      "text/plain": [
       "True"
      ]
     },
     "execution_count": 19,
     "metadata": {},
     "output_type": "execute_result"
    }
   ],
   "source": [
    "(not False) or (not True)"
   ]
  },
  {
   "cell_type": "markdown",
   "id": "74caa64c",
   "metadata": {},
   "source": [
    "  "
   ]
  },
  {
   "cell_type": "code",
   "execution_count": 21,
   "id": "3d3a41a7",
   "metadata": {},
   "outputs": [],
   "source": [
    "# Question 5"
   ]
  },
  {
   "cell_type": "markdown",
   "id": "a14ea686",
   "metadata": {},
   "source": [
    "\"==\" --> Equal to\n",
    "\n",
    "\">\" --> Greater than\n",
    "\n",
    "\"<\" --> Less than\n",
    "\n",
    "\">=\" --> Greater than or equal to\n",
    "\n",
    "\"<=\" --> Less than or equal to\n",
    "\n",
    "\"<>\" --> Not Equal to"
   ]
  },
  {
   "cell_type": "markdown",
   "id": "f390684e",
   "metadata": {},
   "source": [
    " "
   ]
  },
  {
   "cell_type": "code",
   "execution_count": 22,
   "id": "e251d3c9",
   "metadata": {},
   "outputs": [],
   "source": [
    "# Question 6"
   ]
  },
  {
   "cell_type": "markdown",
   "id": "063fa5e7",
   "metadata": {},
   "source": [
    "Equal to : \"==\"\n",
    "\n",
    "Assignment\": \"=\""
   ]
  },
  {
   "cell_type": "code",
   "execution_count": 23,
   "id": "f738c18a",
   "metadata": {},
   "outputs": [],
   "source": [
    "a=100 # Assigning value of 100 to variable a"
   ]
  },
  {
   "cell_type": "code",
   "execution_count": 25,
   "id": "57307fab",
   "metadata": {},
   "outputs": [
    {
     "name": "stdout",
     "output_type": "stream",
     "text": [
      "Integer\n"
     ]
    }
   ],
   "source": [
    "a=100\n",
    "if type(a) == int: # Comparing if variable type of a is equal to integer\n",
    "    print(\"Integer\")"
   ]
  },
  {
   "cell_type": "markdown",
   "id": "3a76b970",
   "metadata": {},
   "source": [
    " "
   ]
  },
  {
   "cell_type": "code",
   "execution_count": 26,
   "id": "eb5780ae",
   "metadata": {},
   "outputs": [],
   "source": [
    "# Question 7"
   ]
  },
  {
   "cell_type": "code",
   "execution_count": 28,
   "id": "549bc0d8",
   "metadata": {},
   "outputs": [
    {
     "name": "stdout",
     "output_type": "stream",
     "text": [
      "ham\n",
      "spam\n",
      "spam\n"
     ]
    }
   ],
   "source": [
    "spam = 0 # Block 1\n",
    "\n",
    "if spam == 10: # Block 2\n",
    "    print(\"eggs\") # Block 3\n",
    "\n",
    "if spam > 5: #Block 2\n",
    "    print(\"bacon\") # Block 3\n",
    "else: # Block 2\n",
    "    print(\"ham\") # Block 3\n",
    "    \n",
    "print(\"spam\") # Block 1\n",
    "print(\"spam\") # Block 1"
   ]
  },
  {
   "cell_type": "markdown",
   "id": "a2ddf5c0",
   "metadata": {},
   "source": [
    " "
   ]
  },
  {
   "cell_type": "code",
   "execution_count": 29,
   "id": "e35e53ca",
   "metadata": {},
   "outputs": [],
   "source": [
    "# Question 8"
   ]
  },
  {
   "cell_type": "code",
   "execution_count": 32,
   "id": "a556fa44",
   "metadata": {},
   "outputs": [
    {
     "name": "stdout",
     "output_type": "stream",
     "text": [
      "Enter a number: 45\n",
      "Greetings!\n"
     ]
    }
   ],
   "source": [
    "spam = int(input(\"Enter a number: \"))\n",
    "\n",
    "if spam == 1:\n",
    "    print(\"Hello\")\n",
    "elif spam == 2:\n",
    "    print(\"Howdy\")\n",
    "else:\n",
    "    print(\"Greetings!\")"
   ]
  },
  {
   "cell_type": "markdown",
   "id": "dff79e0d",
   "metadata": {},
   "source": [
    " "
   ]
  },
  {
   "cell_type": "code",
   "execution_count": 33,
   "id": "26c2d981",
   "metadata": {},
   "outputs": [],
   "source": [
    "# Question 9"
   ]
  },
  {
   "cell_type": "markdown",
   "id": "b2309fc9",
   "metadata": {},
   "source": [
    "If my program is stuck in endless look I can press the stop button  or type press \"Control+C\" to interrupt the program.\n",
    "\n"
   ]
  },
  {
   "cell_type": "markdown",
   "id": "74c72ae1",
   "metadata": {},
   "source": [
    " "
   ]
  },
  {
   "cell_type": "code",
   "execution_count": 34,
   "id": "53dfa505",
   "metadata": {},
   "outputs": [],
   "source": [
    "# Question 10"
   ]
  },
  {
   "cell_type": "markdown",
   "id": "50c98da1",
   "metadata": {},
   "source": [
    "  Break will terminate the loop and come out of it. \n",
    "  \n",
    "  Continue will not terminate the loop but will return the execution to the base loop itself"
   ]
  },
  {
   "cell_type": "code",
   "execution_count": 36,
   "id": "1aeafb7d",
   "metadata": {},
   "outputs": [
    {
     "name": "stdout",
     "output_type": "stream",
     "text": [
      "R\n",
      "o\n",
      "n\n",
      "n\n",
      "Hello\n"
     ]
    }
   ],
   "source": [
    "string=\"Ronnie\"\n",
    "\n",
    "for i in string:\n",
    "    if i==\"i\":\n",
    "        break\n",
    "    else:\n",
    "        print(i)\n",
    "print(\"Hello\")"
   ]
  },
  {
   "cell_type": "code",
   "execution_count": 37,
   "id": "2c8fb947",
   "metadata": {},
   "outputs": [
    {
     "name": "stdout",
     "output_type": "stream",
     "text": [
      "R\n",
      "o\n",
      "n\n",
      "n\n",
      "e\n",
      "Hello\n"
     ]
    }
   ],
   "source": [
    "string=\"Ronnie\"\n",
    "\n",
    "for i in string:\n",
    "    if i==\"i\":\n",
    "        continue\n",
    "    else:\n",
    "        print(i)\n",
    "print(\"Hello\")"
   ]
  },
  {
   "cell_type": "markdown",
   "id": "f5f719cc",
   "metadata": {},
   "source": [
    " "
   ]
  },
  {
   "cell_type": "code",
   "execution_count": 38,
   "id": "50205bce",
   "metadata": {},
   "outputs": [],
   "source": [
    "# Question 11\n"
   ]
  },
  {
   "cell_type": "code",
   "execution_count": 39,
   "id": "04548aed",
   "metadata": {},
   "outputs": [
    {
     "name": "stdout",
     "output_type": "stream",
     "text": [
      "0\n",
      "1\n",
      "2\n",
      "3\n",
      "4\n",
      "5\n",
      "6\n",
      "7\n",
      "8\n",
      "9\n"
     ]
    }
   ],
   "source": [
    "for i in range(10): # This takes default startig value of 0 and prints till 9 with a default increment of 1\n",
    "    print(i)"
   ]
  },
  {
   "cell_type": "code",
   "execution_count": 40,
   "id": "419b1ac2",
   "metadata": {},
   "outputs": [
    {
     "name": "stdout",
     "output_type": "stream",
     "text": [
      "0\n",
      "1\n",
      "2\n",
      "3\n",
      "4\n",
      "5\n",
      "6\n",
      "7\n",
      "8\n",
      "9\n"
     ]
    }
   ],
   "source": [
    "for i in range(0,10): # Here we have specified a starting value of 0 and prints till 9 with a default increment of 1\n",
    "    print(i)"
   ]
  },
  {
   "cell_type": "code",
   "execution_count": 42,
   "id": "fb94b2cc",
   "metadata": {},
   "outputs": [
    {
     "name": "stdout",
     "output_type": "stream",
     "text": [
      "0\n",
      "1\n",
      "2\n",
      "3\n",
      "4\n",
      "5\n",
      "6\n",
      "7\n",
      "8\n",
      "9\n"
     ]
    }
   ],
   "source": [
    "for i in range(0,10,1): # Here we have specified a starting value of 0 and prints till 9 with a specified increment of 1\n",
    "    print(i)"
   ]
  },
  {
   "cell_type": "markdown",
   "id": "b79ed439",
   "metadata": {},
   "source": [
    " "
   ]
  },
  {
   "cell_type": "code",
   "execution_count": 43,
   "id": "d31a17e0",
   "metadata": {},
   "outputs": [],
   "source": [
    "# Question 12"
   ]
  },
  {
   "cell_type": "code",
   "execution_count": 44,
   "id": "9c040205",
   "metadata": {},
   "outputs": [
    {
     "name": "stdout",
     "output_type": "stream",
     "text": [
      "1\n",
      "2\n",
      "3\n",
      "4\n",
      "5\n",
      "6\n",
      "7\n",
      "8\n",
      "9\n",
      "10\n"
     ]
    }
   ],
   "source": [
    "for i in range(1,11):\n",
    "    print(i)"
   ]
  },
  {
   "cell_type": "code",
   "execution_count": 45,
   "id": "c344cf97",
   "metadata": {},
   "outputs": [
    {
     "name": "stdout",
     "output_type": "stream",
     "text": [
      "1\n",
      "2\n",
      "3\n",
      "4\n",
      "5\n",
      "6\n",
      "7\n",
      "8\n",
      "9\n",
      "10\n"
     ]
    }
   ],
   "source": [
    "i=1\n",
    "\n",
    "while (i <=10):\n",
    "    print(i)\n",
    "    i +=1"
   ]
  },
  {
   "cell_type": "markdown",
   "id": "a71bbf75",
   "metadata": {},
   "source": [
    " "
   ]
  },
  {
   "cell_type": "code",
   "execution_count": 46,
   "id": "4e95822e",
   "metadata": {},
   "outputs": [],
   "source": [
    "# Question 13"
   ]
  },
  {
   "cell_type": "markdown",
   "id": "4855e389",
   "metadata": {},
   "source": [
    " import spam as sp\n",
    " \n",
    " sp.bacon()"
   ]
  },
  {
   "cell_type": "code",
   "execution_count": null,
   "id": "0f9150b4",
   "metadata": {},
   "outputs": [],
   "source": []
  }
 ],
 "metadata": {
  "kernelspec": {
   "display_name": "Python 3 (ipykernel)",
   "language": "python",
   "name": "python3"
  },
  "language_info": {
   "codemirror_mode": {
    "name": "ipython",
    "version": 3
   },
   "file_extension": ".py",
   "mimetype": "text/x-python",
   "name": "python",
   "nbconvert_exporter": "python",
   "pygments_lexer": "ipython3",
   "version": "3.8.12"
  }
 },
 "nbformat": 4,
 "nbformat_minor": 5
}
